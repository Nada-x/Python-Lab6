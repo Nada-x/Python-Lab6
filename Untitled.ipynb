{
 "cells": [
  {
   "cell_type": "code",
   "execution_count": 12,
   "id": "43c1df7d-1ac5-4194-bbaa-12969fbd7df5",
   "metadata": {},
   "outputs": [
    {
     "name": "stdout",
     "output_type": "stream",
     "text": [
      "139\n",
      "45\n",
      "[4, 30, 2, 10]\n"
     ]
    },
    {
     "ename": "NameError",
     "evalue": "name 'my_list1_copy' is not defined",
     "output_type": "error",
     "traceback": [
      "\u001b[0;31m---------------------------------------------------------------------------\u001b[0m",
      "\u001b[0;31mNameError\u001b[0m                                 Traceback (most recent call last)",
      "Cell \u001b[0;32mIn[12], line 11\u001b[0m\n\u001b[1;32m      8\u001b[0m even_numbers \u001b[38;5;241m=\u001b[39m [i \u001b[38;5;28;01mfor\u001b[39;00m i \u001b[38;5;129;01min\u001b[39;00m my_list \u001b[38;5;28;01mif\u001b[39;00m i \u001b[38;5;241m%\u001b[39m \u001b[38;5;241m2\u001b[39m \u001b[38;5;241m==\u001b[39m \u001b[38;5;241m0\u001b[39m]\n\u001b[1;32m      9\u001b[0m \u001b[38;5;28mprint\u001b[39m(even_numbers)\n\u001b[0;32m---> 11\u001b[0m \u001b[43mmy_list1_copy\u001b[49m[\u001b[38;5;241m0\u001b[39m:\u001b[38;5;241m5\u001b[39m] \u001b[38;5;241m=\u001b[39m my_list\n\u001b[1;32m     12\u001b[0m \u001b[38;5;28mprint\u001b[39m(my_list1_copy)\n",
      "\u001b[0;31mNameError\u001b[0m: name 'my_list1_copy' is not defined"
     ]
    }
   ],
   "source": [
    "my_list = [5, 4, 17, 19, 30, 2, 7, 10, 45]\n",
    "total = sum(my_list)\n",
    "print(total)\n",
    "\n",
    "largest_number = max(my_list)\n",
    "print(largest_number)\n",
    "\n",
    "even_numbers = [i for i in my_list if i % 2 == 0]\n",
    "print(even_numbers)\n",
    "\n",
    "sliced_list = my_list[0:5]\n",
    "print(my_list1_copy)\n",
    "\n",
    "\n",
    "\n"
   ]
  },
  {
   "cell_type": "code",
   "execution_count": null,
   "id": "c786bda6-23d3-4130-af10-8ecd7d8a977a",
   "metadata": {},
   "outputs": [],
   "source": []
  }
 ],
 "metadata": {
  "kernelspec": {
   "display_name": "Python 3 (ipykernel)",
   "language": "python",
   "name": "python3"
  },
  "language_info": {
   "codemirror_mode": {
    "name": "ipython",
    "version": 3
   },
   "file_extension": ".py",
   "mimetype": "text/x-python",
   "name": "python",
   "nbconvert_exporter": "python",
   "pygments_lexer": "ipython3",
   "version": "3.11.4"
  }
 },
 "nbformat": 4,
 "nbformat_minor": 5
}
